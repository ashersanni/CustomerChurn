{
 "cells": [
  {
   "cell_type": "code",
   "execution_count": null,
   "id": "85666e38",
   "metadata": {},
   "outputs": [],
   "source": [
    "#importing libraries\n",
    "import numpy as np\n",
    "import pandas as pd\n",
    "import matplotlib.pyplot as plt #for visualization\n",
    "import matplotlib"
   ]
  },
  {
   "cell_type": "code",
   "execution_count": null,
   "id": "cd92bafa",
   "metadata": {},
   "outputs": [],
   "source": [
    "data_df = pd.read_csv('Churn.csv')"
   ]
  },
  {
   "cell_type": "markdown",
   "id": "b3e10f38",
   "metadata": {},
   "source": [
    "## Overview of Churn Data"
   ]
  },
  {
   "cell_type": "code",
   "execution_count": null,
   "id": "a1bc7713",
   "metadata": {},
   "outputs": [],
   "source": [
    "print(f'Number of rows: {data_df.shape[0]}')\n",
    "print(f'Number of columns: {data_df.shape[1]}')\n",
    "print(f'\\nFeatures :\\n{data_df.columns.to_list()}')\n",
    "print(f'\\nMissing data:\\n{data_df.isnull().sum()}')"
   ]
  },
  {
   "cell_type": "markdown",
   "id": "6ccd7fb1",
   "metadata": {},
   "source": [
    "##  Overall Churn "
   ]
  },
  {
   "cell_type": "code",
   "execution_count": null,
   "id": "9208c061",
   "metadata": {},
   "outputs": [],
   "source": [
    "gb_df = data_df.groupby('Churn').size().to_frame().reset_index()\n",
    "gb_df.rename(columns={0:'Count'},inplace =True)\n",
    "\n",
    "plt.rcParams['figure.figsize'] = [5, 5]\n",
    "plt.rcParams['figure.dpi'] = 100\n",
    "plt.pie(gb_df['Count'],labels = gb_df['Churn'],wedgeprops = {'edgecolor':'black'},\n",
    "        autopct=lambda p:f'{p:.2f}% ( {p*(gb_df.Count.sum())/100:.0f} )')\n",
    "\n",
    "plt.title('Overall Company Churn')\n",
    "plt.show()"
   ]
  },
  {
   "cell_type": "markdown",
   "id": "af30b81f",
   "metadata": {},
   "source": [
    "## Exploring Categorical Features "
   ]
  },
  {
   "cell_type": "code",
   "execution_count": null,
   "id": "cd0b4cc6",
   "metadata": {},
   "outputs": [],
   "source": [
    "#Define Bar Chart Function\n",
    "def bar(feature, df = data_df):\n",
    "    gb_df = df.groupby([feature,'Churn']).size()\n",
    "    gb_df = gb_df.unstack()\n",
    "    gb_df.index.name = None    \n",
    "    \n",
    "    size = df[feature].count()\n",
    "    str = f'{df[feature].value_counts().index.to_list()}'\n",
    "    pcr = f'{round(df[feature].value_counts()/size*100,2).to_list()}'\n",
    "            \n",
    "    gb_df.plot(kind = 'bar',ylabel= 'Count', title = f'Churn by {feature}')\n",
    "    plt.show()\n",
    "    print(f'Percentage values of {str} are {pcr} respectively.')\n",
    "\n",
    "bar('gender')"
   ]
  },
  {
   "cell_type": "markdown",
   "id": "cd06a6c9",
   "metadata": {},
   "source": [
    "### Churn based on Demography"
   ]
  },
  {
   "cell_type": "code",
   "execution_count": null,
   "id": "741e1a50",
   "metadata": {},
   "outputs": [],
   "source": [
    "#Gender feature Plots\n",
    "bar('gender')\n",
    "#Senior Citizen feature Plots\n",
    "data_df.loc[data_df['SeniorCitizen']==0,'SeniorCitizen'] = 'No'\n",
    "data_df.loc[data_df['SeniorCitizen']==1,'SeniorCitizen'] = 'Yes'\n",
    "bar('SeniorCitizen')\n",
    "#Partner feature Plots\n",
    "bar('Partner')\n",
    "#Dependent feature Plots\n",
    "bar('Dependents')\n"
   ]
  },
  {
   "cell_type": "markdown",
   "id": "ee4bdc23",
   "metadata": {},
   "source": [
    "### Churn Based On Subscribed Services"
   ]
  },
  {
   "cell_type": "code",
   "execution_count": null,
   "id": "64afff6b",
   "metadata": {},
   "outputs": [],
   "source": [
    "bar('PhoneService')\n",
    "bar('MultipleLines')\n",
    "bar('InternetService')\n",
    "bar('OnlineSecurity')\n",
    "bar('OnlineBackup')\n",
    "bar('DeviceProtection')\n",
    "bar('TechSupport')\n",
    "bar('StreamingTV')\n",
    "bar('StreamingMovies')"
   ]
  },
  {
   "cell_type": "markdown",
   "id": "5c168e52",
   "metadata": {},
   "source": [
    "### Churn Based On Payment Method"
   ]
  },
  {
   "cell_type": "code",
   "execution_count": null,
   "id": "c028f403",
   "metadata": {},
   "outputs": [],
   "source": [
    "bar('Contract')\n",
    "bar('PaperlessBilling')\n",
    "bar('PaymentMethod')"
   ]
  },
  {
   "cell_type": "markdown",
   "id": "4eb86059",
   "metadata": {},
   "source": [
    "### Explore Numerical Features"
   ]
  },
  {
   "cell_type": "code",
   "execution_count": null,
   "id": "2999f7de",
   "metadata": {},
   "outputs": [],
   "source": [
    "data_df.dtypes"
   ]
  },
  {
   "cell_type": "code",
   "execution_count": null,
   "id": "47688c85",
   "metadata": {},
   "outputs": [],
   "source": [
    "try:\n",
    "    data_df['TotalCharges'] = data_df['TotalCharges'].astype(float)\n",
    "except ValueError as ve:\n",
    "    print(ve)"
   ]
  },
  {
   "cell_type": "code",
   "execution_count": null,
   "id": "92ebc701",
   "metadata": {},
   "outputs": [],
   "source": [
    "data_df['TotalCharges'] = pd.to_numeric(data_df['TotalCharges'],errors = 'coerce')\n",
    "data_df['TotalCharges'] = data_df['TotalCharges'].fillna(data_df['TotalCharges'].median())"
   ]
  },
  {
   "cell_type": "code",
   "execution_count": null,
   "id": "dd27f352",
   "metadata": {},
   "outputs": [],
   "source": [
    "def hist(feature, df = data_df):\n",
    "\n",
    "    filt= df['Churn'] == 'No'\n",
    "    plt.hist([df.loc[filt,feature],df.loc[~filt,feature]],bins = 10,edgecolor='black',label=['No','Yes'])\n",
    "    \n",
    "    plt.title(f'Churn by {feature}')\n",
    "    plt.xlabel(f'{feature}')\n",
    "    plt.ylabel('Count')\n",
    "    \n",
    "    plt.legend()\n",
    "    plt.show()\n"
   ]
  },
  {
   "cell_type": "code",
   "execution_count": null,
   "id": "206f33ed",
   "metadata": {},
   "outputs": [],
   "source": [
    "hist('tenure')\n",
    "hist('MonthlyCharges')\n",
    "hist('TotalCharges')"
   ]
  }
 ],
 "metadata": {
  "kernelspec": {
   "display_name": "Python 3 (ipykernel)",
   "language": "python",
   "name": "python3"
  },
  "language_info": {
   "codemirror_mode": {
    "name": "ipython",
    "version": 3
   },
   "file_extension": ".py",
   "mimetype": "text/x-python",
   "name": "python",
   "nbconvert_exporter": "python",
   "pygments_lexer": "ipython3",
   "version": "3.10.6"
  }
 },
 "nbformat": 4,
 "nbformat_minor": 5
}
